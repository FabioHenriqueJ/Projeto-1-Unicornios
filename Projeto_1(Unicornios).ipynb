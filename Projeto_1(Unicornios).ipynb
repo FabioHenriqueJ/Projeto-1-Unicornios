{
  "nbformat": 4,
  "nbformat_minor": 0,
  "metadata": {
    "colab": {
      "provenance": [],
      "toc_visible": true,
      "authorship_tag": "ABX9TyNFDlrLyaQbceAiVn8yjVgn",
      "include_colab_link": true
    },
    "kernelspec": {
      "name": "python3",
      "display_name": "Python 3"
    },
    "language_info": {
      "name": "python"
    }
  },
  "cells": [
    {
      "cell_type": "markdown",
      "metadata": {
        "id": "view-in-github",
        "colab_type": "text"
      },
      "source": [
        "<a href=\"https://colab.research.google.com/github/FabioHenriqueJ/Projeto-1-Unicornios/blob/main/Projeto_1(Unicornios).ipynb\" target=\"_parent\"><img src=\"https://colab.research.google.com/assets/colab-badge.svg\" alt=\"Open In Colab\"/></a>"
      ]
    },
    {
      "cell_type": "markdown",
      "source": [
        "# Meu 1º  projeto de Estudos de analse de Dados\n",
        "###**Com a ajuda de Data Viking**\n",
        "**por: @Odemir Depieri Jr** - [Linkedin](https://www.linkedin.com/in/odemir-depieri-jr/) <p>\n",
        "**por: @Ronisson Lucas Calmon da Conceição** - [Linkedin](https://www.linkedin.com/in/ronisson-lucas-calmon-da-concei%C3%A7%C3%A3o-7aa884202/) <p>\n",
        "[Página do Curso](https://)\n",
        "\n",
        "# **Sobre o conjunto de dados** <p>\n",
        "\"Unicórnio\" é um termo usado na indústria de capital de risco para descrever uma startup de capital fechado com valor superior a US$ 1 bilhão. O termo foi popularizado pela primeira vez pela capitalista de risco Aileen Lee, fundadora da Cowboy Ventures, um fundo de capital de risco com sede em Palo Alto, Califórnia.\n",
        "\n",
        "Unicórnios também podem se referir a um fenômeno de recrutamento no setor de recursos humanos (RH). Os gerentes de RH podem ter grandes expectativas para preencher um cargo, levando-os a procurar candidatos com qualificações superiores às exigidas para um cargo específico. Em essência, esses gerentes estão procurando um unicórnio, o que leva a uma desconexão entre seu candidato ideal e quem eles podem contratar do grupo de pessoas disponíveis.\n",
        "\n",
        "[Download da base de dados](https://www.kaggle.com/ramjasmaurya/unicorn-startups)\n"
      ],
      "metadata": {
        "id": "fD1JyGhsWa3e"
      }
    },
    {
      "cell_type": "code",
      "execution_count": 1,
      "metadata": {
        "id": "yY6cYKdpVYbf"
      },
      "outputs": [],
      "source": [
        "# import as bibliotecas\n",
        "import numpy as np\n",
        "import pandas as pd\n",
        "import matplotlib.pyplot as plt\n",
        "\n",
        "import warnings \n",
        "warnings.filterwarnings('ignore')"
      ]
    },
    {
      "cell_type": "code",
      "source": [
        "# Ler os dados\n",
        "Base_Dados = pd.read_csv('Startups+in+2021+end.csv')\n",
        "\n",
        "# Verificar Dimensão\n",
        "Base_Dados.shape"
      ],
      "metadata": {
        "colab": {
          "base_uri": "https://localhost:8080/"
        },
        "id": "bk122ffsY_Tq",
        "outputId": "0582b1be-2126-4923-9b0c-7736e96cb05f"
      },
      "execution_count": 6,
      "outputs": [
        {
          "output_type": "execute_result",
          "data": {
            "text/plain": [
              "(936, 8)"
            ]
          },
          "metadata": {},
          "execution_count": 6
        }
      ]
    },
    {
      "cell_type": "code",
      "source": [
        "# Primeiros registro\n",
        "Base_Dados.head()"
      ],
      "metadata": {
        "colab": {
          "base_uri": "https://localhost:8080/",
          "height": 354
        },
        "id": "ShTYfYypZXw4",
        "outputId": "5f1786f9-b39c-42bf-9993-ca911161c7f8"
      },
      "execution_count": 7,
      "outputs": [
        {
          "output_type": "execute_result",
          "data": {
            "text/plain": [
              "   Unnamed: 0    Company Valuation ($B) Date Joined        Country  \\\n",
              "0           0  Bytedance           $140    4/7/2017          China   \n",
              "1           1     SpaceX         $100.3   12/1/2012  United States   \n",
              "2           2     Stripe            $95   1/23/2014  United States   \n",
              "3           3     Klarna          $45.6  12/12/2011         Sweden   \n",
              "4           4      Canva            $40    1/8/2018      Australia   \n",
              "\n",
              "            City                      Industry  \\\n",
              "0        Beijing       Artificial intelligence   \n",
              "1      Hawthorne                         Other   \n",
              "2  San Francisco                       Fintech   \n",
              "3      Stockholm                       Fintech   \n",
              "4    Surry Hills  Internet software & services   \n",
              "\n",
              "                                    Select Investors  \n",
              "0  Sequoia Capital China, SIG Asia Investments, S...  \n",
              "1  Founders Fund, Draper Fisher Jurvetson, Rothen...  \n",
              "2        Khosla Ventures, LowercaseCapital, capitalG  \n",
              "3  Institutional Venture Partners, Sequoia Capita...  \n",
              "4  Sequoia Capital China, Blackbird Ventures, Mat...  "
            ],
            "text/html": [
              "\n",
              "  <div id=\"df-2c2a1c5f-702c-4f3f-9da1-d8a3a1778bf7\">\n",
              "    <div class=\"colab-df-container\">\n",
              "      <div>\n",
              "<style scoped>\n",
              "    .dataframe tbody tr th:only-of-type {\n",
              "        vertical-align: middle;\n",
              "    }\n",
              "\n",
              "    .dataframe tbody tr th {\n",
              "        vertical-align: top;\n",
              "    }\n",
              "\n",
              "    .dataframe thead th {\n",
              "        text-align: right;\n",
              "    }\n",
              "</style>\n",
              "<table border=\"1\" class=\"dataframe\">\n",
              "  <thead>\n",
              "    <tr style=\"text-align: right;\">\n",
              "      <th></th>\n",
              "      <th>Unnamed: 0</th>\n",
              "      <th>Company</th>\n",
              "      <th>Valuation ($B)</th>\n",
              "      <th>Date Joined</th>\n",
              "      <th>Country</th>\n",
              "      <th>City</th>\n",
              "      <th>Industry</th>\n",
              "      <th>Select Investors</th>\n",
              "    </tr>\n",
              "  </thead>\n",
              "  <tbody>\n",
              "    <tr>\n",
              "      <th>0</th>\n",
              "      <td>0</td>\n",
              "      <td>Bytedance</td>\n",
              "      <td>$140</td>\n",
              "      <td>4/7/2017</td>\n",
              "      <td>China</td>\n",
              "      <td>Beijing</td>\n",
              "      <td>Artificial intelligence</td>\n",
              "      <td>Sequoia Capital China, SIG Asia Investments, S...</td>\n",
              "    </tr>\n",
              "    <tr>\n",
              "      <th>1</th>\n",
              "      <td>1</td>\n",
              "      <td>SpaceX</td>\n",
              "      <td>$100.3</td>\n",
              "      <td>12/1/2012</td>\n",
              "      <td>United States</td>\n",
              "      <td>Hawthorne</td>\n",
              "      <td>Other</td>\n",
              "      <td>Founders Fund, Draper Fisher Jurvetson, Rothen...</td>\n",
              "    </tr>\n",
              "    <tr>\n",
              "      <th>2</th>\n",
              "      <td>2</td>\n",
              "      <td>Stripe</td>\n",
              "      <td>$95</td>\n",
              "      <td>1/23/2014</td>\n",
              "      <td>United States</td>\n",
              "      <td>San Francisco</td>\n",
              "      <td>Fintech</td>\n",
              "      <td>Khosla Ventures, LowercaseCapital, capitalG</td>\n",
              "    </tr>\n",
              "    <tr>\n",
              "      <th>3</th>\n",
              "      <td>3</td>\n",
              "      <td>Klarna</td>\n",
              "      <td>$45.6</td>\n",
              "      <td>12/12/2011</td>\n",
              "      <td>Sweden</td>\n",
              "      <td>Stockholm</td>\n",
              "      <td>Fintech</td>\n",
              "      <td>Institutional Venture Partners, Sequoia Capita...</td>\n",
              "    </tr>\n",
              "    <tr>\n",
              "      <th>4</th>\n",
              "      <td>4</td>\n",
              "      <td>Canva</td>\n",
              "      <td>$40</td>\n",
              "      <td>1/8/2018</td>\n",
              "      <td>Australia</td>\n",
              "      <td>Surry Hills</td>\n",
              "      <td>Internet software &amp; services</td>\n",
              "      <td>Sequoia Capital China, Blackbird Ventures, Mat...</td>\n",
              "    </tr>\n",
              "  </tbody>\n",
              "</table>\n",
              "</div>\n",
              "      <button class=\"colab-df-convert\" onclick=\"convertToInteractive('df-2c2a1c5f-702c-4f3f-9da1-d8a3a1778bf7')\"\n",
              "              title=\"Convert this dataframe to an interactive table.\"\n",
              "              style=\"display:none;\">\n",
              "        \n",
              "  <svg xmlns=\"http://www.w3.org/2000/svg\" height=\"24px\"viewBox=\"0 0 24 24\"\n",
              "       width=\"24px\">\n",
              "    <path d=\"M0 0h24v24H0V0z\" fill=\"none\"/>\n",
              "    <path d=\"M18.56 5.44l.94 2.06.94-2.06 2.06-.94-2.06-.94-.94-2.06-.94 2.06-2.06.94zm-11 1L8.5 8.5l.94-2.06 2.06-.94-2.06-.94L8.5 2.5l-.94 2.06-2.06.94zm10 10l.94 2.06.94-2.06 2.06-.94-2.06-.94-.94-2.06-.94 2.06-2.06.94z\"/><path d=\"M17.41 7.96l-1.37-1.37c-.4-.4-.92-.59-1.43-.59-.52 0-1.04.2-1.43.59L10.3 9.45l-7.72 7.72c-.78.78-.78 2.05 0 2.83L4 21.41c.39.39.9.59 1.41.59.51 0 1.02-.2 1.41-.59l7.78-7.78 2.81-2.81c.8-.78.8-2.07 0-2.86zM5.41 20L4 18.59l7.72-7.72 1.47 1.35L5.41 20z\"/>\n",
              "  </svg>\n",
              "      </button>\n",
              "      \n",
              "  <style>\n",
              "    .colab-df-container {\n",
              "      display:flex;\n",
              "      flex-wrap:wrap;\n",
              "      gap: 12px;\n",
              "    }\n",
              "\n",
              "    .colab-df-convert {\n",
              "      background-color: #E8F0FE;\n",
              "      border: none;\n",
              "      border-radius: 50%;\n",
              "      cursor: pointer;\n",
              "      display: none;\n",
              "      fill: #1967D2;\n",
              "      height: 32px;\n",
              "      padding: 0 0 0 0;\n",
              "      width: 32px;\n",
              "    }\n",
              "\n",
              "    .colab-df-convert:hover {\n",
              "      background-color: #E2EBFA;\n",
              "      box-shadow: 0px 1px 2px rgba(60, 64, 67, 0.3), 0px 1px 3px 1px rgba(60, 64, 67, 0.15);\n",
              "      fill: #174EA6;\n",
              "    }\n",
              "\n",
              "    [theme=dark] .colab-df-convert {\n",
              "      background-color: #3B4455;\n",
              "      fill: #D2E3FC;\n",
              "    }\n",
              "\n",
              "    [theme=dark] .colab-df-convert:hover {\n",
              "      background-color: #434B5C;\n",
              "      box-shadow: 0px 1px 3px 1px rgba(0, 0, 0, 0.15);\n",
              "      filter: drop-shadow(0px 1px 2px rgba(0, 0, 0, 0.3));\n",
              "      fill: #FFFFFF;\n",
              "    }\n",
              "  </style>\n",
              "\n",
              "      <script>\n",
              "        const buttonEl =\n",
              "          document.querySelector('#df-2c2a1c5f-702c-4f3f-9da1-d8a3a1778bf7 button.colab-df-convert');\n",
              "        buttonEl.style.display =\n",
              "          google.colab.kernel.accessAllowed ? 'block' : 'none';\n",
              "\n",
              "        async function convertToInteractive(key) {\n",
              "          const element = document.querySelector('#df-2c2a1c5f-702c-4f3f-9da1-d8a3a1778bf7');\n",
              "          const dataTable =\n",
              "            await google.colab.kernel.invokeFunction('convertToInteractive',\n",
              "                                                     [key], {});\n",
              "          if (!dataTable) return;\n",
              "\n",
              "          const docLinkHtml = 'Like what you see? Visit the ' +\n",
              "            '<a target=\"_blank\" href=https://colab.research.google.com/notebooks/data_table.ipynb>data table notebook</a>'\n",
              "            + ' to learn more about interactive tables.';\n",
              "          element.innerHTML = '';\n",
              "          dataTable['output_type'] = 'display_data';\n",
              "          await google.colab.output.renderOutput(dataTable, element);\n",
              "          const docLink = document.createElement('div');\n",
              "          docLink.innerHTML = docLinkHtml;\n",
              "          element.appendChild(docLink);\n",
              "        }\n",
              "      </script>\n",
              "    </div>\n",
              "  </div>\n",
              "  "
            ]
          },
          "metadata": {},
          "execution_count": 7
        }
      ]
    },
    {
      "cell_type": "code",
      "source": [],
      "metadata": {
        "id": "EGy8B8JMbNnr"
      },
      "execution_count": null,
      "outputs": []
    }
  ]
}